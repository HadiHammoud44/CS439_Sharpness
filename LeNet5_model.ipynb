{
  "cells": [
    {
      "cell_type": "code",
      "source": [
        "import scipy\n",
        "import torch\n",
        "import torch.nn as nn\n",
        "import torch.optim as optim\n",
        "import torchvision.datasets as datasets\n",
        "import torchvision.transforms as transforms\n",
        "import matplotlib.pyplot as plt\n",
        "from IPython.display import clear_output "
      ],
      "metadata": {
        "id": "CAg76sMaL8_2"
      },
      "execution_count": null,
      "outputs": []
    },
    {
      "cell_type": "code",
      "execution_count": null,
      "metadata": {
        "id": "s3diiV9jzom0"
      },
      "outputs": [],
      "source": [
        "# Define the LeNet-5-like CNN architecture\n",
        "class LeNet(nn.Module):\n",
        "    def __init__(self):\n",
        "        super(LeNet, self).__init__()\n",
        "        self.conv1 = nn.Conv2d(1, 12, kernel_size=5)\n",
        "        self.batch_norm1 = nn.BatchNorm2d(12)\n",
        "        self.pool = nn.MaxPool2d(kernel_size=2, stride=2)\n",
        "        \n",
        "        self.conv2 = nn.Conv2d(12, 32, kernel_size=5)\n",
        "        self.batch_norm2 = nn.BatchNorm2d(32)\n",
        "        \n",
        "        self.fc1 = nn.Linear(32 * 4 * 4, 256)\n",
        "        self.dropout1 = nn.Dropout(0.5)\n",
        "        \n",
        "        self.fc2 = nn.Linear(256, 128)\n",
        "        self.dropout2 = nn.Dropout(0.5)\n",
        "        \n",
        "        self.fc3 = nn.Linear(128, 10)\n",
        "\n",
        "    def forward(self, x):\n",
        "        x = self.pool(torch.relu(self.batch_norm1(self.conv1(x))))\n",
        "        x = self.pool(torch.relu(self.batch_norm2(self.conv2(x))))\n",
        "        x = x.view(-1, 32 * 4 * 4)\n",
        "        x = torch.relu(self.dropout1(self.fc1(x)))\n",
        "        x = torch.relu(self.dropout2(self.fc2(x)))\n",
        "        x = self.fc3(x)\n",
        "        return x\n",
        "\n",
        "\n",
        "# Set the device\n",
        "device = torch.device(\"cuda\" if torch.cuda.is_available() else \"cpu\")\n",
        "\n",
        "# Set up the data loaders with normalization\n",
        "transform = transforms.Compose([transforms.ToTensor(),transforms.Normalize((0.2860,), (0.3530,))])\n",
        "trainset = datasets.FashionMNIST(root='./data', train=True, download=True, transform=transform)\n",
        "trainloader = torch.utils.data.DataLoader(trainset, batch_size=64, shuffle=True)\n",
        "testset = datasets.FashionMNIST(root='./data', train=False, download=True, transform=transform)\n",
        "testloader = torch.utils.data.DataLoader(testset, batch_size=64, shuffle=False)\n",
        "\n",
        "clear_output()"
      ]
    },
    {
      "cell_type": "code",
      "execution_count": null,
      "metadata": {
        "colab": {
          "base_uri": "https://localhost:8080/"
        },
        "id": "d7Q62qQc3dhM",
        "outputId": "139e7b4f-5313-489f-ea69-362b9ce96d83"
      },
      "outputs": [
        {
          "output_type": "stream",
          "name": "stdout",
          "text": [
            "Model 41 - Epoch 1: Train Acc. = 75.23% --- Valid Acc. = 84.21% --- Train Loss = 0.6939\n",
            "Model 41 - Epoch 2: Train Acc. = 86.11% --- Valid Acc. = 86.16% --- Train Loss = 0.3759\n",
            "Model 41 - Epoch 3: Train Acc. = 87.94% --- Valid Acc. = 86.78% --- Train Loss = 0.3286\n",
            "Model 41 - Epoch 4: Train Acc. = 88.82% --- Valid Acc. = 84.52% --- Train Loss = 0.3075\n",
            "Model 41 - Epoch 5: Train Acc. = 89.29% --- Valid Acc. = 85.58% --- Train Loss = 0.2943\n",
            "Stopping criteria met: Difference in train loss (0.04306458085799723) < 0.05\n",
            "Finished Training Model 41\n",
            "Model 42 - Epoch 1: Train Acc. = 73.84% --- Valid Acc. = 82.60% --- Train Loss = 0.7204\n",
            "Model 42 - Epoch 2: Train Acc. = 86.22% --- Valid Acc. = 87.85% --- Train Loss = 0.3760\n",
            "Model 42 - Epoch 3: Train Acc. = 88.25% --- Valid Acc. = 86.81% --- Train Loss = 0.3236\n",
            "Model 42 - Epoch 4: Train Acc. = 88.96% --- Valid Acc. = 85.62% --- Train Loss = 0.3044\n",
            "Model 42 - Epoch 5: Train Acc. = 89.52% --- Valid Acc. = 88.58% --- Train Loss = 0.2897\n",
            "Stopping criteria met: Difference in train loss (0.04839437622608342) < 0.05\n",
            "Finished Training Model 42\n",
            "Model 43 - Epoch 1: Train Acc. = 74.49% --- Valid Acc. = 84.00% --- Train Loss = 0.7108\n",
            "Model 43 - Epoch 2: Train Acc. = 86.19% --- Valid Acc. = 85.68% --- Train Loss = 0.3782\n",
            "Model 43 - Epoch 3: Train Acc. = 87.95% --- Valid Acc. = 86.85% --- Train Loss = 0.3298\n",
            "Model 43 - Epoch 4: Train Acc. = 88.80% --- Valid Acc. = 87.67% --- Train Loss = 0.3074\n",
            "Model 43 - Epoch 5: Train Acc. = 89.19% --- Valid Acc. = 87.03% --- Train Loss = 0.2957\n",
            "Stopping criteria met: Difference in train loss (0.038028209896636994) < 0.05\n",
            "Finished Training Model 43\n",
            "Model 44 - Epoch 1: Train Acc. = 74.72% --- Valid Acc. = 82.83% --- Train Loss = 0.7045\n",
            "Model 44 - Epoch 2: Train Acc. = 86.13% --- Valid Acc. = 84.44% --- Train Loss = 0.3780\n",
            "Model 44 - Epoch 3: Train Acc. = 87.99% --- Valid Acc. = 87.12% --- Train Loss = 0.3289\n",
            "Model 44 - Epoch 4: Train Acc. = 88.82% --- Valid Acc. = 84.90% --- Train Loss = 0.3057\n",
            "Model 44 - Epoch 5: Train Acc. = 89.46% --- Valid Acc. = 88.69% --- Train Loss = 0.2907\n",
            "Stopping criteria met: Difference in train loss (0.0493261438555205) < 0.05\n",
            "Finished Training Model 44\n",
            "Model 45 - Epoch 1: Train Acc. = 74.99% --- Valid Acc. = 83.64% --- Train Loss = 0.6971\n",
            "Model 45 - Epoch 2: Train Acc. = 86.28% --- Valid Acc. = 83.88% --- Train Loss = 0.3756\n",
            "Model 45 - Epoch 3: Train Acc. = 87.93% --- Valid Acc. = 86.11% --- Train Loss = 0.3278\n",
            "Model 45 - Epoch 4: Train Acc. = 88.75% --- Valid Acc. = 86.85% --- Train Loss = 0.3057\n",
            "Model 45 - Epoch 5: Train Acc. = 89.12% --- Valid Acc. = 86.64% --- Train Loss = 0.2940\n",
            "Stopping criteria met: Difference in train loss (0.03832516725783717) < 0.05\n",
            "Finished Training Model 45\n",
            "Model 46 - Epoch 1: Train Acc. = 74.70% --- Valid Acc. = 84.39% --- Train Loss = 0.7047\n",
            "Model 46 - Epoch 2: Train Acc. = 86.08% --- Valid Acc. = 85.88% --- Train Loss = 0.3800\n",
            "Model 46 - Epoch 3: Train Acc. = 87.80% --- Valid Acc. = 86.96% --- Train Loss = 0.3302\n",
            "Model 46 - Epoch 4: Train Acc. = 88.84% --- Valid Acc. = 87.14% --- Train Loss = 0.3065\n",
            "Model 46 - Epoch 5: Train Acc. = 89.23% --- Valid Acc. = 87.19% --- Train Loss = 0.2950\n",
            "Stopping criteria met: Difference in train loss (0.03739575234054873) < 0.05\n",
            "Finished Training Model 46\n",
            "Model 47 - Epoch 1: Train Acc. = 73.89% --- Valid Acc. = 82.83% --- Train Loss = 0.7211\n",
            "Model 47 - Epoch 2: Train Acc. = 85.76% --- Valid Acc. = 86.68% --- Train Loss = 0.3822\n",
            "Model 47 - Epoch 3: Train Acc. = 87.97% --- Valid Acc. = 85.69% --- Train Loss = 0.3307\n",
            "Model 47 - Epoch 4: Train Acc. = 88.75% --- Valid Acc. = 88.52% --- Train Loss = 0.3079\n",
            "Model 47 - Epoch 5: Train Acc. = 89.22% --- Valid Acc. = 87.51% --- Train Loss = 0.2962\n",
            "Stopping criteria met: Difference in train loss (0.037869438760152856) < 0.05\n",
            "Finished Training Model 47\n",
            "Model 48 - Epoch 1: Train Acc. = 74.72% --- Valid Acc. = 81.53% --- Train Loss = 0.6936\n",
            "Model 48 - Epoch 2: Train Acc. = 86.15% --- Valid Acc. = 86.37% --- Train Loss = 0.3750\n",
            "Model 48 - Epoch 3: Train Acc. = 88.16% --- Valid Acc. = 85.04% --- Train Loss = 0.3228\n",
            "Model 48 - Epoch 4: Train Acc. = 88.77% --- Valid Acc. = 83.94% --- Train Loss = 0.3046\n",
            "Model 48 - Epoch 5: Train Acc. = 89.28% --- Valid Acc. = 87.67% --- Train Loss = 0.2940\n",
            "Stopping criteria met: Difference in train loss (0.034824352196378854) < 0.05\n",
            "Finished Training Model 48\n",
            "Model 49 - Epoch 1: Train Acc. = 74.89% --- Valid Acc. = 82.72% --- Train Loss = 0.6975\n",
            "Model 49 - Epoch 2: Train Acc. = 86.49% --- Valid Acc. = 85.83% --- Train Loss = 0.3677\n",
            "Model 49 - Epoch 3: Train Acc. = 88.34% --- Valid Acc. = 86.74% --- Train Loss = 0.3227\n",
            "Model 49 - Epoch 4: Train Acc. = 89.00% --- Valid Acc. = 85.47% --- Train Loss = 0.3016\n",
            "Model 49 - Epoch 5: Train Acc. = 89.47% --- Valid Acc. = 86.96% --- Train Loss = 0.2895\n",
            "Stopping criteria met: Difference in train loss (0.04029777990284097) < 0.05\n",
            "Finished Training Model 49\n",
            "Model 50 - Epoch 1: Train Acc. = 74.33% --- Valid Acc. = 83.93% --- Train Loss = 0.7038\n",
            "Model 50 - Epoch 2: Train Acc. = 86.42% --- Valid Acc. = 85.13% --- Train Loss = 0.3724\n",
            "Model 50 - Epoch 3: Train Acc. = 88.06% --- Valid Acc. = 88.24% --- Train Loss = 0.3235\n",
            "Model 50 - Epoch 4: Train Acc. = 88.78% --- Valid Acc. = 86.56% --- Train Loss = 0.3054\n",
            "Model 50 - Epoch 5: Train Acc. = 89.24% --- Valid Acc. = 89.32% --- Train Loss = 0.2923\n",
            "Stopping criteria met: Difference in train loss (0.042746842722455373) < 0.05\n",
            "Finished Training Model 50\n"
          ]
        }
      ],
      "source": [
        "num_models = 50 \n",
        "num_epochs = 10\n",
        "eps = 0.05  # Stopping criteria threshold\n",
        "\n",
        "for model_nb in range(num_models):\n",
        "    # Initialize the model\n",
        "    model = LeNet().to(device)\n",
        "\n",
        "    # Define the loss function and optimizer\n",
        "    criterion = nn.CrossEntropyLoss()\n",
        "    optimizer = optim.SGD(model.parameters(), lr=0.05, weight_decay=5e-3)\n",
        "\n",
        "    # Train the model\n",
        "    prev_train_loss = float('inf')  # Previous train loss\n",
        "    for epoch in range(num_epochs):\n",
        "        running_loss = 0.0\n",
        "        total_correct_epoch = 0\n",
        "        total_samples_epoch = 0\n",
        "        for i, data in enumerate(trainloader, 0):\n",
        "            inputs, labels = data[0].to(device), data[1].to(device)\n",
        "\n",
        "            optimizer.zero_grad()\n",
        "\n",
        "            outputs = model(inputs)\n",
        "            loss = criterion(outputs, labels)\n",
        "            loss.backward()\n",
        "            optimizer.step()\n",
        "\n",
        "            running_loss += loss.item()\n",
        "\n",
        "            _, predicted = torch.max(outputs.data, 1)\n",
        "            total_samples_epoch += labels.size(0)\n",
        "            total_correct_epoch += (predicted == labels).sum().item()\n",
        "\n",
        "        train_acc = (total_correct_epoch / total_samples_epoch) * 100\n",
        "        train_loss = running_loss/len(trainloader)\n",
        "\n",
        "        model.eval()\n",
        "        total=0\n",
        "        correct=0\n",
        "        with torch.no_grad():\n",
        "          for data in testloader:\n",
        "              inputs, labels = data[0].to(device), data[1].to(device)\n",
        "\n",
        "              outputs = model(inputs)\n",
        "\n",
        "              _, predicted = torch.max(outputs.data, 1)\n",
        "              total += labels.size(0)\n",
        "              correct += (predicted == labels).sum().item()\n",
        "\n",
        "        valid_acc = (correct / total) * 100\n",
        "\n",
        "        print(f\"Model {model_nb+1+40} - Epoch {epoch+1}: Train Acc. = {train_acc:.2f}% --- Valid Acc. = {valid_acc:.2f}% --- Train Loss = {train_loss:.4f}\")\n",
        "\n",
        "        # Check stopping criteria based on difference in train loss\n",
        "        if epoch > 0:\n",
        "            train_loss_relative_diff = abs(prev_train_loss - train_loss) / prev_train_loss\n",
        "            if train_loss_relative_diff < eps:\n",
        "                print(f\"Stopping criteria met: Difference in train loss ({train_loss_relative_diff}) < {eps}\")\n",
        "                break\n",
        "        \n",
        "        prev_train_loss = train_loss\n",
        "\n",
        "    # Save the model weights\n",
        "    filename = f'model_weights_{model_nb+1+40}.pt'\n",
        "    torch.save(model.state_dict(), filename)\n",
        "\n",
        "    print(f\"Finished Training Model {model_nb+1+40}\")\n"
      ]
    },
    {
      "cell_type": "code",
      "execution_count": null,
      "metadata": {
        "id": "LSbnhcwS3fWz"
      },
      "outputs": [],
      "source": [
        "# Project model onto L_inf ball of radius epsilon around the frozen weights\n",
        "def project_weights(model, rho, fixed_w):\n",
        "    with torch.no_grad():\n",
        "        for i, param in enumerate(model.parameters()):\n",
        "            param.data = torch.clamp(param.data, fixed_w[i]-(rho * abs(fixed_w[i])), fixed_w[i]+(rho * abs(fixed_w[i])))"
      ]
    },
    {
      "cell_type": "code",
      "execution_count": null,
      "metadata": {
        "id": "AOWYSRaezuJY",
        "colab": {
          "base_uri": "https://localhost:8080/"
        },
        "outputId": "46c70b94-8353-49c0-8912-4065897c2540"
      },
      "outputs": [
        {
          "output_type": "stream",
          "name": "stdout",
          "text": [
            "Model 40, Epoch 1: Loss = 0.7147\n",
            "Model 40, Epoch 2: Loss = 0.7109\n",
            "Model 40, Epoch 3: Loss = 0.7033\n",
            "Model 40, Epoch 4: Loss = 0.7137\n",
            "Model 40, Epoch 5: Loss = 0.7055\n",
            "Model 41, Epoch 1: Loss = 0.8616\n",
            "Model 41, Epoch 2: Loss = 0.8572\n",
            "Model 41, Epoch 3: Loss = 0.8706\n",
            "Model 41, Epoch 4: Loss = 0.8609\n",
            "Model 41, Epoch 5: Loss = 0.8619\n",
            "Model 42, Epoch 1: Loss = 0.8794\n",
            "Model 42, Epoch 2: Loss = 0.8802\n",
            "Model 42, Epoch 3: Loss = 0.8891\n",
            "Model 42, Epoch 4: Loss = 0.8694\n",
            "Model 42, Epoch 5: Loss = 0.8799\n",
            "Model 43, Epoch 1: Loss = 0.7713\n",
            "Model 43, Epoch 2: Loss = 0.7673\n",
            "Model 43, Epoch 3: Loss = 0.7824\n",
            "Model 43, Epoch 4: Loss = 0.7658\n",
            "Model 43, Epoch 5: Loss = 0.7696\n",
            "Model 44, Epoch 1: Loss = 0.7507\n",
            "Model 44, Epoch 2: Loss = 0.7522\n",
            "Model 44, Epoch 3: Loss = 0.7367\n",
            "Model 44, Epoch 4: Loss = 0.7464\n",
            "Model 44, Epoch 5: Loss = 0.7564\n",
            "Model 45, Epoch 1: Loss = 0.8531\n",
            "Model 45, Epoch 2: Loss = 0.8515\n",
            "Model 45, Epoch 3: Loss = 0.8356\n",
            "Model 45, Epoch 4: Loss = 0.8403\n",
            "Model 45, Epoch 5: Loss = 0.8498\n",
            "Model 46, Epoch 1: Loss = 0.8420\n",
            "Model 46, Epoch 2: Loss = 0.8504\n",
            "Model 46, Epoch 3: Loss = 0.8496\n",
            "Model 46, Epoch 4: Loss = 0.8333\n",
            "Model 46, Epoch 5: Loss = 0.8417\n",
            "Model 47, Epoch 1: Loss = 0.7976\n",
            "Model 47, Epoch 2: Loss = 0.7895\n",
            "Model 47, Epoch 3: Loss = 0.7984\n",
            "Model 47, Epoch 4: Loss = 0.7852\n",
            "Model 47, Epoch 5: Loss = 0.7943\n",
            "Model 48, Epoch 1: Loss = 0.7839\n",
            "Model 48, Epoch 2: Loss = 0.7881\n",
            "Model 48, Epoch 3: Loss = 0.7782\n",
            "Model 48, Epoch 4: Loss = 0.7893\n",
            "Model 48, Epoch 5: Loss = 0.7973\n",
            "Model 49, Epoch 1: Loss = 0.7356\n",
            "Model 49, Epoch 2: Loss = 0.7382\n",
            "Model 49, Epoch 3: Loss = 0.7436\n",
            "Model 49, Epoch 4: Loss = 0.7518\n",
            "Model 49, Epoch 5: Loss = 0.7552\n",
            "Model 50, Epoch 1: Loss = 0.8057\n",
            "Model 50, Epoch 2: Loss = 0.8100\n",
            "Model 50, Epoch 3: Loss = 0.8147\n",
            "Model 50, Epoch 4: Loss = 0.8000\n",
            "Model 50, Epoch 5: Loss = 0.8025\n"
          ]
        }
      ],
      "source": [
        "# Projected Gradient Ascent\n",
        "num_models=50\n",
        "nb_pga_epochs = 5  # Train for 5 epochs\n",
        "rho = 1e-4\n",
        "criterion = nn.CrossEntropyLoss()\n",
        "\n",
        "\n",
        "# Loop over all trained models\n",
        "for i in range(1, num_models+1): \n",
        "    best_eval_loss = float('-inf')  # Initialize best evaluation loss\n",
        "    model = LeNet().to(device)\n",
        "    # Load the learned weights into the model\n",
        "    model.load_state_dict(torch.load(f\"model_weights_{i}.pt\"))\n",
        "    optimizer = torch.optim.SGD(model.parameters(), lr=0.05)\n",
        "    clone_w = [param.detach() for param in model.parameters()]\n",
        "\n",
        "    for epoch in range(nb_pga_epochs):\n",
        "        model.train()\n",
        "        for data in trainloader:\n",
        "            inputs, labels = data[0].to(device), data[1].to(device)\n",
        "\n",
        "            optimizer.zero_grad()\n",
        "\n",
        "            out = model(inputs)\n",
        "\n",
        "            # Invert criterion to search for worst-case sharpness\n",
        "            loss = -criterion(out, labels)\n",
        "            loss.backward()\n",
        "            optimizer.step()\n",
        "\n",
        "            # Project weights onto the L_inf ball after each batch\n",
        "            project_weights(model, rho, clone_w)\n",
        "\n",
        "        # Evaluate loss on the training data for the last projected weights \n",
        "        model.eval()\n",
        "        with torch.no_grad():\n",
        "            total_loss = 0.0\n",
        "            for data in trainloader:\n",
        "                inputs, labels = data[0].to(device), data[1].to(device)\n",
        "                out = model(inputs)\n",
        "                loss = criterion(out, labels)\n",
        "                total_loss += loss.item()\n",
        "            average_loss = total_loss / len(trainloader)\n",
        "\n",
        "        print(f\"Model {i}, Epoch {epoch+1}: Loss = {average_loss:.4f}\")\n",
        "\n",
        "        if average_loss > best_eval_loss:\n",
        "            # Save the model with the highest evaluation loss\n",
        "            best_eval_loss = average_loss\n",
        "            torch.save(model.state_dict(), f'PGD_weights_{i}.pt')"
      ]
    },
    {
      "cell_type": "code",
      "execution_count": null,
      "metadata": {
        "id": "0obaYuAq0BIz",
        "colab": {
          "base_uri": "https://localhost:8080/",
          "height": 17
        },
        "outputId": "ca1dfbc3-9d21-42fe-a1e1-1a216ab379c5"
      },
      "outputs": [
        {
          "output_type": "display_data",
          "data": {
            "text/plain": [
              "<IPython.core.display.Javascript object>"
            ],
            "application/javascript": [
              "\n",
              "    async function download(id, filename, size) {\n",
              "      if (!google.colab.kernel.accessAllowed) {\n",
              "        return;\n",
              "      }\n",
              "      const div = document.createElement('div');\n",
              "      const label = document.createElement('label');\n",
              "      label.textContent = `Downloading \"${filename}\": `;\n",
              "      div.appendChild(label);\n",
              "      const progress = document.createElement('progress');\n",
              "      progress.max = size;\n",
              "      div.appendChild(progress);\n",
              "      document.body.appendChild(div);\n",
              "\n",
              "      const buffers = [];\n",
              "      let downloaded = 0;\n",
              "\n",
              "      const channel = await google.colab.kernel.comms.open(id);\n",
              "      // Send a message to notify the kernel that we're ready.\n",
              "      channel.send({})\n",
              "\n",
              "      for await (const message of channel.messages) {\n",
              "        // Send a message to notify the kernel that we're ready.\n",
              "        channel.send({})\n",
              "        if (message.buffers) {\n",
              "          for (const buffer of message.buffers) {\n",
              "            buffers.push(buffer);\n",
              "            downloaded += buffer.byteLength;\n",
              "            progress.value = downloaded;\n",
              "          }\n",
              "        }\n",
              "      }\n",
              "      const blob = new Blob(buffers, {type: 'application/binary'});\n",
              "      const a = document.createElement('a');\n",
              "      a.href = window.URL.createObjectURL(blob);\n",
              "      a.download = filename;\n",
              "      div.appendChild(a);\n",
              "      a.click();\n",
              "      div.remove();\n",
              "    }\n",
              "  "
            ]
          },
          "metadata": {}
        },
        {
          "output_type": "display_data",
          "data": {
            "text/plain": [
              "<IPython.core.display.Javascript object>"
            ],
            "application/javascript": [
              "download(\"download_5df4b5ab-4732-4188-a285-5e0049a1de86\", \"PGD_weights_50.pt\", 708611)"
            ]
          },
          "metadata": {}
        }
      ],
      "source": [
        "# Uncomment to download model files to local\n",
        "# from google.colab import files\n",
        "# for i in range(1,num_models+1):\n",
        "#  files.download(f\"model_weights_{i}.pt\")\n",
        "#  files.download(f'PGD_weights_{i}.pt')"
      ]
    },
    {
      "cell_type": "code",
      "source": [
        "def evaluate(model_weights, dataloader, criterion = nn.CrossEntropyLoss()):\n",
        "  device= torch.device(\"cuda\" if torch.cuda.is_available() else \"cpu\")\n",
        "  model= LeNet().to(device)\n",
        "  model.load_state_dict(torch.load(model_weights))\n",
        "  model.eval()\n",
        "  with torch.no_grad():\n",
        "      total_loss = 0.0\n",
        "      for data in dataloader:\n",
        "          inputs, labels = data[0].to(device), data[1].to(device)\n",
        "          out = model(inputs)\n",
        "          loss = criterion(out, labels)\n",
        "          total_loss += loss.item()\n",
        "      average_loss = total_loss / len(dataloader)\n",
        "  return average_loss"
      ],
      "metadata": {
        "id": "WM3PMNOJG3qX"
      },
      "execution_count": null,
      "outputs": []
    },
    {
      "cell_type": "code",
      "source": [
        "# Compute the sharpness (difference in train losses)\n",
        "sharpness = [] \n",
        "\n",
        "for model_nb in range(num_models):\n",
        "    #calculate train loss for original model\n",
        "    original_loss = evaluate(f\"model_weights_{model_nb+1}.pt\", trainloader)\n",
        "\n",
        "    #calculate train loss for updated model\n",
        "    updated_loss = evaluate(f'PGD_weights_{model_nb+1}.pt', trainloader)\n",
        "\n",
        "    # Record adaptive worst-case sharpness\n",
        "    sharpness += [updated_loss - original_loss]"
      ],
      "metadata": {
        "id": "Q3DEmlJTFYk8"
      },
      "execution_count": null,
      "outputs": []
    },
    {
      "cell_type": "code",
      "source": [
        "# Compute the generalization (test loss)\n",
        "generalization = []\n",
        "\n",
        "for model_nb in range(num_models):\n",
        "    #calculate test loss for original model\n",
        "    test_loss = evaluate(f\"model_weights_{model_nb+1}.pt\", testloader)\n",
        "\n",
        "    generalization += [test_loss]"
      ],
      "metadata": {
        "id": "zYJY8v1UKACa"
      },
      "execution_count": null,
      "outputs": []
    },
    {
      "cell_type": "code",
      "source": [
        "# Compute and save correlation coefficients\n",
        "tau, pval = scipy.stats.kendalltau(sharpness, generalization)\n",
        "print(tau, pval)\n",
        "# str(tau)[:6]"
      ],
      "metadata": {
        "id": "j8FQB2i6LSf4",
        "colab": {
          "base_uri": "https://localhost:8080/"
        },
        "outputId": "a3f67ad9-3453-42c8-c251-4305d0f90c58"
      },
      "execution_count": null,
      "outputs": [
        {
          "output_type": "stream",
          "name": "stdout",
          "text": [
            "-0.18040816326530612 0.06451074234674428\n"
          ]
        }
      ]
    },
    {
      "cell_type": "code",
      "source": [
        "# Create scatter plot\n",
        "plt.scatter(sharpness, generalization)\n",
        "\n",
        "# Add grey vertical lines\n",
        "for x in plt.xticks()[0]:\n",
        "    plt.axvline(x=x, color='grey', alpha=0.5)\n",
        "\n",
        "# Add grey horizontal lines\n",
        "for y in plt.yticks()[0]:\n",
        "    plt.axhline(y=y, color='grey', alpha=0.5)\n",
        "\n",
        "# Set labels and title\n",
        "plt.xlabel('Worst-case '+r'$l_{\\infty}$'+' adaptive sharpness')\n",
        "plt.ylabel('Test loss')\n",
        "plt.title('Le-Net5, '+r'$\\tau=$'+ f'{tau:.3f}' + r', $p=$' + f'{pval:.3f}')\n",
        "\n",
        "# Display the plot\n",
        "plt.show()"
      ],
      "metadata": {
        "id": "pBkyeh3dMUI-",
        "colab": {
          "base_uri": "https://localhost:8080/",
          "height": 477
        },
        "outputId": "9a11f826-c41f-45b9-ba64-af09b778d881"
      },
      "execution_count": null,
      "outputs": [
        {
          "output_type": "display_data",
          "data": {
            "text/plain": [
              "<Figure size 640x480 with 1 Axes>"
            ],
            "image/png": "[encoded data removed]"
          },
          "metadata": {}
        }
      ]
    }
  ],
  "metadata": {
    "accelerator": "GPU",
    "colab": {
      "provenance": []
    },
    "gpuClass": "standard",
    "kernelspec": {
      "display_name": "Python 3",
      "name": "python3"
    },
    "language_info": {
      "name": "python"
    }
  },
  "nbformat": 4,
  "nbformat_minor": 0
}