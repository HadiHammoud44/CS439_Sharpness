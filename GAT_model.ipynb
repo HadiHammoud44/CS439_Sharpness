{
 "cells": [
  {
   "cell_type": "code",
   "execution_count": 16,
   "metadata": {
    "colab": {
     "base_uri": "https://localhost:8080/"
    },
    "id": "tP421R3upafI",
    "outputId": "2471d11b-9202-4bb8-a934-b929094fd53b"
   },
   "outputs": [],
   "source": [
    "from scipy import stats\n",
    "import random\n",
    "import numpy as np\n",
    "import torch\n",
    "import torch.nn as nn\n",
    "import torch.optim as optim\n",
    "from torch.utils.data import DataLoader\n",
    "import torch.nn.functional as F\n",
    "import torch_lr_finder\n",
    "from torch_lr_finder import LRFinder, TrainDataLoaderIter\n",
    "import torch_geometric\n",
    "from torch_geometric.data import Data, Batch\n",
    "from torch_geometric.datasets import Planetoid\n",
    "from torch_geometric.transforms import NormalizeFeatures\n",
    "from torch_geometric.nn import GAT, GATConv\n",
    "import matplotlib.pyplot as plt"
   ]
  },
  {
   "cell_type": "code",
   "execution_count": 2,
   "metadata": {
    "id": "vepN14zdo2sI"
   },
   "outputs": [],
   "source": [
    "# Reproducibility\n",
    "torch_geometric.seed_everything(0)"
   ]
  },
  {
   "cell_type": "code",
   "execution_count": 3,
   "metadata": {
    "id": "EZggfQJImm-k"
   },
   "outputs": [],
   "source": [
    "# Helper functions\n",
    "\n",
    "\"\"\" Takes an integer from 0 to 99 and returns a 2-digit string representation\"\"\"\n",
    "def int_to_str_2digit(x):\n",
    "  assert(type(x)==int)\n",
    "  assert(0 <= x and x <= 99)\n",
    "  if 0 <= x and x <= 10:\n",
    "    return \"0\"+str(x)\n",
    "  else: return str(x)\n",
    "\n",
    "\"\"\" Create filename for model i weights \"\"\"\n",
    "def sgd_filename(i):\n",
    "  return filename+int_to_str_2digit(i)+\".pt\"\n",
    "\n",
    "\"\"\" Calculate relative change \"\"\"\n",
    "def rel_change(new, old):\n",
    "    return abs((new - old)) / old"
   ]
  },
  {
   "cell_type": "code",
   "execution_count": 4,
   "metadata": {
    "id": "Qpa7iJVmGqkZ"
   },
   "outputs": [],
   "source": [
    "# Global constants\n",
    "batch_size=64\n",
    "m=64 # for m-sharpness\n",
    "dropout=0.6\n",
    "learning_rate=2.36E-01\n",
    "hidden_channels=8\n",
    "heads=8\n",
    "nb_models=50\n",
    "filename=\"SGD_GAT_\"\n",
    "nb_sgd_epochs_min = 10\n",
    "nb_sgd_epochs_max = 20\n",
    "nb_pga_epochs = 5\n",
    "nb_pga_trials = 5\n",
    "rho = 0.02 # Radius of the L_inf ball\n",
    "criterion = torch.nn.CrossEntropyLoss()\n",
    "stop_crit = 0.05"
   ]
  },
  {
   "cell_type": "code",
   "execution_count": 5,
   "metadata": {
    "id": "uSzk9R7LKv_t"
   },
   "outputs": [
    {
     "name": "stderr",
     "output_type": "stream",
     "text": [
      "C:\\Users\\oilio\\Miniconda3\\lib\\site-packages\\torch_geometric\\data\\in_memory_dataset.py:157: UserWarning: It is not recommended to directly access the internal storage format `data` of an 'InMemoryDataset'. If you are absolutely certain what you are doing, access the internal storage via `InMemoryDataset._data` instead to suppress this warning. Alternatively, you can access stacked individual attributes of every graph via `dataset.{attr_name}`.\n",
      "  warnings.warn(msg)\n"
     ]
    }
   ],
   "source": [
    "# Use GPU if available\n",
    "device = torch.device(\"cuda:0\" if torch.cuda.is_available() else \"cpu\")\n",
    "\n",
    "# Load the Cora dataset\n",
    "dataset = Planetoid(root='data/Planetoid/', name='Cora', transform=NormalizeFeatures())\n",
    "\n",
    "# Couple the node vectors and edge indices for compatibility with LRFinder\n",
    "x = dataset.data.x.to(device)\n",
    "e = dataset.data.edge_index.to(device)\n",
    "y = dataset.data.y.to(device)\n",
    "tr_mask = dataset[0].train_mask\n",
    "te_mask = dataset[0].test_mask\n",
    "va_mask = dataset[0].val_mask"
   ]
  },
  {
   "cell_type": "code",
   "execution_count": 6,
   "metadata": {
    "colab": {
     "base_uri": "https://localhost:8080/"
    },
    "id": "DwZ0iSi-gUnl",
    "outputId": "875e2cb7-8203-4dd7-aa43-d47221248796"
   },
   "outputs": [
    {
     "name": "stdout",
     "output_type": "stream",
     "text": [
      "Dataset: Cora\n",
      "Number of nodes: 2708 (train=140, val=500, test=1000, other=1068)\n",
      "Number of edges: 5278\n",
      "Number of node features: 1433\n",
      "Number of classes: 7\n",
      "Dataset len: 1\n"
     ]
    }
   ],
   "source": [
    "# Dataset characteristics\n",
    "num_nodes = dataset.data.num_nodes\n",
    "num_edges = dataset.data.num_edges // 2 # Pytorch Geometric saves each link as undirected edge\n",
    "tr_len = dataset[0].train_mask.sum()\n",
    "te_len = dataset[0].test_mask.sum()\n",
    "val_len = dataset[0].val_mask.sum()\n",
    "other_len = num_nodes - tr_len - te_len - val_len\n",
    "\n",
    "# Name of the dataset?\n",
    "print(f\"Dataset: {dataset.name}\")\n",
    "\n",
    "# How many nodes for training, validation, and testing?\n",
    "print(f\"Number of nodes: {num_nodes} (train={tr_len}, val={val_len}, test={te_len}, other={other_len})\")\n",
    "\n",
    "# How many edges are there?\n",
    "print(f\"Number of edges: {num_edges}\")\n",
    "\n",
    "# How many features on each node?\n",
    "print(f\"Number of node features: {dataset.num_node_features}\")\n",
    "\n",
    "# How many classes of data are there?\n",
    "print(f\"Number of classes: {dataset.num_classes}\")\n",
    "\n",
    "# Realising that this DataSet isn't compatible with PyTorch Dataloader.\n",
    "print(f\"Dataset len: {dataset.len()}\")"
   ]
  },
  {
   "cell_type": "code",
   "execution_count": 7,
   "metadata": {
    "colab": {
     "base_uri": "https://localhost:8080/"
    },
    "id": "4_6o6ABamL66",
    "outputId": "1d84b2c2-606d-4dc1-8006-c13304dace8b"
   },
   "outputs": [
    {
     "name": "stdout",
     "output_type": "stream",
     "text": [
      "Train class frequnecy: {0: 20, 1: 20, 2: 20, 3: 20, 4: 20, 5: 20, 6: 20}\n",
      "Test class frequency: {0: 130, 1: 91, 2: 144, 3: 319, 4: 149, 5: 103, 6: 64}\n"
     ]
    }
   ],
   "source": [
    "# Check that the training data is balanced\n",
    "unique_nums, counts = np.unique(dataset.data.y[tr_mask], return_counts=True)\n",
    "frequency_dict = dict(zip(unique_nums, counts))\n",
    "print(\"Train class frequnecy:\", frequency_dict)\n",
    "\n",
    "# The test data is balanced?\n",
    "# Check that the training data is balanced\n",
    "unique_nums, counts = np.unique(dataset.data.y[te_mask], return_counts=True)\n",
    "frequency_dict = dict(zip(unique_nums, counts))\n",
    "print(\"Test class frequency:\", frequency_dict)"
   ]
  },
  {
   "cell_type": "code",
   "execution_count": 8,
   "metadata": {
    "id": "TbvL0zFa7GcC"
   },
   "outputs": [],
   "source": [
    "\"\"\"Get batch masks for from training mask without replacement\"\"\"\n",
    "def batch_masks():\n",
    "\n",
    "  # Get which nodes are used for training\n",
    "  tr_nodes = np.array(range(num_nodes))[tr_mask]\n",
    "\n",
    "  # Shuffle the node indices\n",
    "  np.random.shuffle(tr_nodes)\n",
    "\n",
    "  # Compute closest multiple of batch_size\n",
    "  target_length = int(np.ceil(len(tr_nodes) / batch_size) * batch_size)\n",
    "\n",
    "  # Calculate the amount of padding needed\n",
    "  padding = target_length - len(tr_nodes)\n",
    "\n",
    "  # Pad the array indices as to use convenient numpy reshape\n",
    "  tr_nodes = np.pad(tr_nodes, (0, padding), constant_values=tr_nodes[-1], mode='constant')\n",
    "\n",
    "  # Reshape into batches\n",
    "  batches = tr_nodes.reshape(-1, batch_size)\n",
    "\n",
    "  # Encode these indices as node masks\n",
    "  masks = np.array([np.repeat(False, num_nodes) for i in range(len(batches))])\n",
    "  for i, mask in enumerate(masks):\n",
    "    mask[batches[i]]= True\n",
    "\n",
    "  return masks\n",
    "\n",
    "\"\"\"Get a single sub-mask from training mask with replacement\"\"\"\n",
    "def get_mask(size):\n",
    "\n",
    "  # Assert that there are more nodes than size\n",
    "  assert(size < tr_len)\n",
    "\n",
    "  # Get which nodes are used for training\n",
    "  tr_nodes = np.array(range(num_nodes))[tr_mask]\n",
    "\n",
    "  # Sample with replacement\n",
    "  sample = np.random.choice(tr_nodes, size=size, replace=True)\n",
    "\n",
    "  # Encode these indices as a mask\n",
    "  mask = np.repeat(False, num_nodes)\n",
    "  mask[sample] = True\n",
    "  return mask"
   ]
  },
  {
   "cell_type": "code",
   "execution_count": 9,
   "metadata": {
    "id": "cVyphz6NfyAu"
   },
   "outputs": [],
   "source": [
    "def create_model():\n",
    "  return GAT(dataset.num_features, hidden_channels, 2, dataset.num_classes, dropout=dropout, act='elu').to(device)"
   ]
  },
  {
   "cell_type": "code",
   "execution_count": 10,
   "metadata": {
    "id": "vQ-EviAyplx0"
   },
   "outputs": [],
   "source": [
    "# Train the model\n",
    "def train(model, criterion, optimizer, do_update=True):\n",
    "  model.train()\n",
    "\n",
    "  train_loss=0\n",
    "  for mask in batch_masks():\n",
    "    optimizer.zero_grad()\n",
    "    out = model(x, e)\n",
    "    loss = criterion(out[mask], y[mask])\n",
    "    loss.backward()\n",
    "    train_loss += loss.item()\n",
    "\n",
    "    if do_update:\n",
    "      optimizer.step()\n",
    "\n",
    "  return train_loss\n",
    "\n",
    "# Evaluate the model\n",
    "def test(model, criterion):\n",
    "  model.eval()\n",
    "\n",
    "  out = model(x, e)\n",
    "  pred = out.argmax(dim=1)\n",
    "  test_loss = criterion(out[te_mask], y[te_mask])\n",
    "  correct = int(pred[te_mask].eq(y[te_mask]).sum())\n",
    "  acc = correct / te_len\n",
    "\n",
    "  return acc.item(), test_loss.item()"
   ]
  },
  {
   "cell_type": "code",
   "execution_count": 11,
   "metadata": {
    "id": "H6k16H8rzhgp"
   },
   "outputs": [],
   "source": [
    "# Create GAT models: SGD with suggested LR & Cross-Entropy Loss\n",
    "for i in range(nb_models):\n",
    "  # Create the GAT model and optimizer\n",
    "  model = create_model()\n",
    "  optimizer = torch.optim.SGD(model.parameters(), lr=learning_rate)\n",
    "\n",
    "  # Training loop\n",
    "  prev_loss = float('inf')\n",
    "  for epoch in range(nb_sgd_epochs_max):\n",
    "      curr_loss = train(model, criterion, optimizer)\n",
    "      if epoch >= nb_sgd_epochs_min and rel_change(curr_loss, prev_loss) < stop_crit:\n",
    "        break\n",
    "      else:\n",
    "        prev_loss = curr_loss\n",
    "\n",
    "  torch.save(model.state_dict(), sgd_filename(i))"
   ]
  },
  {
   "cell_type": "code",
   "execution_count": 12,
   "metadata": {
    "id": "McEO7b4mmVJI"
   },
   "outputs": [],
   "source": [
    "# Project model onto L_inf ball of radius epsilon around the frozen weights\n",
    "def project_weights(model, rho, fixed_w):\n",
    "    with torch.no_grad():\n",
    "        for i, param in enumerate(model.parameters()):\n",
    "            param.data = torch.clamp(param.data, fixed_w[i]-(rho * abs(fixed_w[i])), fixed_w[i]+(rho * abs(fixed_w[i])))"
   ]
  },
  {
   "cell_type": "code",
   "execution_count": 13,
   "metadata": {
    "id": "-Ho6HX-H-qdd"
   },
   "outputs": [],
   "source": [
    "# Compute Adaptive Worst-case Sharpness with Projected Gradient Ascent\n",
    "sharpnesses = []\n",
    "for i in range(nb_models):\n",
    "  model = create_model()\n",
    "  model.load_state_dict(torch.load(sgd_filename(i)))\n",
    "  optimizer = torch.optim.SGD(model.parameters(), lr=learning_rate)\n",
    "  fixed_w = [param.clone().data for param in list(model.parameters())]\n",
    "\n",
    "  # Compute training loss on original model without updating\n",
    "  tr_loss_fixed = train(model, criterion, optimizer, False)\n",
    "\n",
    "  # PGA runs\n",
    "  avg_train_loss = 0\n",
    "  for j in range(nb_pga_trials):\n",
    "\n",
    "    # Reload model and optimizer\n",
    "    model.load_state_dict(torch.load(sgd_filename(i)))\n",
    "    optimizer = torch.optim.SGD(model.parameters(), lr=learning_rate)\n",
    "\n",
    "    # Get a mask of m training samples\n",
    "    mask = get_mask(m)\n",
    "\n",
    "    # PGA epochs\n",
    "    max_tr_loss_new = 0\n",
    "    for k in range(nb_pga_epochs):\n",
    "        model.train()\n",
    "        optimizer.zero_grad()\n",
    "        out = model(x,e)\n",
    "        # Invert criterion to search for worst-case sharpness\n",
    "        loss = -criterion(out[mask], y[mask])\n",
    "        loss.backward()\n",
    "        optimizer.step()\n",
    "\n",
    "        # Project weights onto the L_inf ball after each batch\n",
    "        project_weights(model, rho, fixed_w)\n",
    "\n",
    "        # Save training loss where the model ends up\n",
    "        tr_loss_new = train(model, criterion, optimizer, False)\n",
    "\n",
    "        # Record if highest over epochs\n",
    "        max_tr_loss_new = max(tr_loss_new, max_tr_loss_new)\n",
    "\n",
    "    # Sum up to average later\n",
    "    avg_train_loss += max_tr_loss_new\n",
    "\n",
    "  # Get approximation of expected training loss\n",
    "  avg_train_loss /= nb_pga_trials\n",
    "\n",
    "  # Record adaptive worst-case sharpness\n",
    "  sharpnesses += [avg_train_loss - tr_loss_fixed]"
   ]
  },
  {
   "cell_type": "code",
   "execution_count": 14,
   "metadata": {
    "id": "RwUXqjMZq1n4"
   },
   "outputs": [],
   "source": [
    "# Compute test losses\n",
    "test_losses = []\n",
    "accuracies = []\n",
    "for i in range(nb_models):\n",
    "  model = create_model()\n",
    "  model.load_state_dict(torch.load(sgd_filename(i)))\n",
    "  test_acc, test_loss = test(model, criterion)\n",
    "  test_losses += [test_loss]\n",
    "  accuracies += [test_acc]"
   ]
  },
  {
   "cell_type": "code",
   "execution_count": 17,
   "metadata": {
    "colab": {
     "base_uri": "https://localhost:8080/"
    },
    "id": "pgM5_UhZty4i",
    "outputId": "d8959570-898b-409f-ea89-cba37716ba57"
   },
   "outputs": [
    {
     "name": "stdout",
     "output_type": "stream",
     "text": [
      "-0.1853061224489796 0.057587789761809095\n",
      "0.29500001668930054 0.7640000581741333\n"
     ]
    }
   ],
   "source": [
    "# Compute and save correlation coefficients\n",
    "tau, pval = stats.kendalltau(sharpnesses, test_losses)\n",
    "print(tau, pval)\n",
    "str(tau)[:6]\n",
    "print(min(accuracies), max(accuracies))"
   ]
  },
  {
   "cell_type": "code",
   "execution_count": 18,
   "metadata": {
    "colab": {
     "base_uri": "https://localhost:8080/",
     "height": 497
    },
    "id": "-U1i5fzJH3w_",
    "outputId": "3bfe34c6-dfd4-4606-dae9-16c07fb9d555"
   },
   "outputs": [
    {
     "data": {
      "image/png": "[encoded data removed]",
      "text/plain": [
       "<Figure size 640x480 with 1 Axes>"
      ]
     },
     "metadata": {},
     "output_type": "display_data"
    }
   ],
   "source": [
    "# Create scatter plot\n",
    "plt.scatter(sharpnesses, test_losses)\n",
    "\n",
    "# Add grey vertical lines\n",
    "for x in plt.xticks()[0]:\n",
    "    plt.axvline(x=x, color='grey', alpha=0.5)\n",
    "\n",
    "# Add grey horizontal lines\n",
    "for y in plt.yticks()[0]:\n",
    "    plt.axhline(y=y, color='grey', alpha=0.5)\n",
    "\n",
    "# Set labels and title\n",
    "plt.xlabel('Worst-case '+r'$l_{\\infty}$'+' adaptive sharpness')\n",
    "plt.ylabel('Test loss')\n",
    "plt.title('GAT, '+r'$\\tau=$'+ f'{tau:.3f}' + r', $p=$' + f'{pval:.3f}')\n",
    "\n",
    "# Display the plot\n",
    "plt.show()"
   ]
  }
 ],
 "metadata": {
  "accelerator": "GPU",
  "colab": {
   "gpuType": "T4",
   "provenance": []
  },
  "gpuClass": "standard",
  "kernelspec": {
   "display_name": "Python 3",
   "language": "python",
   "name": "python3"
  },
  "language_info": {
   "codemirror_mode": {
    "name": "ipython",
    "version": 3
   },
   "file_extension": ".py",
   "mimetype": "text/x-python",
   "name": "python",
   "nbconvert_exporter": "python",
   "pygments_lexer": "ipython3",
   "version": "3.8.3"
  }
 },
 "nbformat": 4,
 "nbformat_minor": 1
}
